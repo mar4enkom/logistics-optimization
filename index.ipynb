{
 "cells": [
  {
   "cell_type": "code",
   "execution_count": 8,
   "id": "34a2abfd-8af6-421a-8d3c-c02742d4f63e",
   "metadata": {},
   "outputs": [],
   "source": [
    "using JuMP\n",
    "using GLPK"
   ]
  },
  {
   "cell_type": "code",
   "execution_count": null,
   "id": "6fb43fb5",
   "metadata": {},
   "outputs": [],
   "source": [
    "facility_model = Model(GLPK.Optimizer)\n",
    "\n",
    "# TODO: calculate this constants dinamically\n",
    "hub_count = 5\n",
    "consumer_count = 5\n",
    "\n",
    "hub_opening_costs = [40, 40, 40, 40, 40]\n",
    "hub_to_consumer_delivery_costs = [\n",
    "    [30, 15, 59, 78, 27],\n",
    "    [50, 42, 25, 30, 53],\n",
    "    [64, 14, 30, 20, 62],\n",
    "    [46, 19, 66, 48, 11],\n",
    "    [19, 40, 60, 31, 27]\n",
    "]\n",
    "\n",
    "@variable(facility_model, y[1:hub_count], binary=true)\n",
    "@variable(\n",
    "    facility_model, \n",
    "    # The share of demand met by delivery from hub A to hub B.\n",
    "    x[1:hub_count, 1:consumer_count], \n",
    "    binary=true\n",
    ")\n",
    "\n",
    "for f=1:hub_count\n",
    "    for c=1:consumer_count\n",
    "        @constraint(facility_model, x[f,c] <= y[f])\n",
    "    end\n",
    "end\n",
    "\n",
    "for c=1:consumer_count\n",
    "    @constraint(facility_model, sum([x[f,c] for f in 1:hub_count]) == 1)\n",
    "end"
   ]
  },
  {
   "cell_type": "code",
   "execution_count": null,
   "id": "765daa05",
   "metadata": {},
   "outputs": [],
   "source": [
    "@variable(model, x >= 0)\n",
    "@variable(model, y >= 0)\n",
    "@objective(model, Max, x + y)\n",
    "@constraint(model, x + 2y <= 4)\n",
    "\n",
    "optimize!(model)\n",
    "\n",
    "println(\"x = \", value(x))\n",
    "println(\"y = \", value(y))"
   ]
  }
 ],
 "metadata": {
  "kernelspec": {
   "display_name": "Julia 1.11.4",
   "language": "julia",
   "name": "julia-1.11"
  },
  "language_info": {
   "file_extension": ".jl",
   "mimetype": "application/julia",
   "name": "julia",
   "version": "1.11.4"
  }
 },
 "nbformat": 4,
 "nbformat_minor": 5
}
