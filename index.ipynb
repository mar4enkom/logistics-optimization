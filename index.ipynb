{
 "cells": [
  {
   "cell_type": "code",
   "execution_count": 8,
   "id": "34a2abfd-8af6-421a-8d3c-c02742d4f63e",
   "metadata": {},
   "outputs": [],
   "source": [
    "using JuMP\n",
    "using GLPK"
   ]
  },
  {
   "cell_type": "code",
   "execution_count": 85,
   "id": "2fdc92e8",
   "metadata": {},
   "outputs": [
    {
     "data": {
      "text/plain": [
       "5"
      ]
     },
     "metadata": {},
     "output_type": "display_data"
    }
   ],
   "source": [
    "hub_opening_costs = [40, 40, 40, 40, 40]\n",
    "consumer_demand = [10, 8, 12, 16, 9]\n",
    "hab_capacity = [6, 2, 4, 5, 7]\n",
    "hub_to_consumer_delivery_costs = [\n",
    "    30  15  59  78  27;\n",
    "    50  42  25  30  53;\n",
    "    64  14  30  20  62;\n",
    "    46  19  66  48  11;\n",
    "    19  40  60  31  27\n",
    "]\n",
    "\n",
    "hub_count = size(hub_to_consumer_delivery_costs, 1)\n",
    "consumer_count = size(hub_to_consumer_delivery_costs, 2)"
   ]
  },
  {
   "cell_type": "code",
   "execution_count": 86,
   "id": "d8e58000",
   "metadata": {},
   "outputs": [],
   "source": [
    "if size(hub_opening_costs, 1) != hub_count\n",
    "    throw(ErrorException(\"The size of the first dimension does not match the expected hub count\"))\n",
    "end"
   ]
  },
  {
   "cell_type": "code",
   "execution_count": 87,
   "id": "6fb43fb5",
   "metadata": {},
   "outputs": [],
   "source": [
    "facility_model = Model(GLPK.Optimizer)\n",
    "\n",
    "# open or not open the hub\n",
    "@variable(facility_model, y[1:hub_count], binary=true)\n",
    "# The share of demand met by delivery from hub to consumer.\n",
    "@variable(\n",
    "    facility_model, \n",
    "    0 <= x[1:hub_count, 1:consumer_count] <= 1\n",
    ")\n",
    "\n",
    "for f=1:hub_count\n",
    "    for c=1:consumer_count\n",
    "        @constraint(facility_model, x[f,c] <= y[f])\n",
    "    end\n",
    "end\n",
    "\n",
    "for f=1:hub_count\n",
    "    for c=1:consumer_count\n",
    "        @constraint(facility_model, x[f,c] <= hab_capacity[f]/consumer_demand[c])\n",
    "    end\n",
    "end\n",
    "\n",
    "for c=1:consumer_count\n",
    "    @constraint(facility_model, sum([x[f,c] for f in 1:hub_count]) == 1)\n",
    "end\n",
    "\n",
    "@objective(\n",
    "    facility_model,\n",
    "    Min,\n",
    "    sum(hub_opening_costs[f] * y[f] for f in 1:hub_count) + \n",
    "    sum(hub_to_consumer_delivery_costs[f,c] * x[f,c] for f in 1:hub_count, c in 1:consumer_count)\n",
    ")\n",
    "\n",
    "optimize!(facility_model)"
   ]
  },
  {
   "cell_type": "code",
   "execution_count": 88,
   "id": "bec297e2",
   "metadata": {},
   "outputs": [
    {
     "name": "stdout",
     "output_type": "stream",
     "text": [
      "265.7736111111111\n",
      "Opened hubs: [0.0, 0.0, 1.0, 1.0, 1.0]\n",
      "Assignments x[f,c]:\n",
      "0.0 0.0 0.0 0.0 0.0 \n",
      "0.0 0.0 0.0 0.0 0.0 \n",
      "0.0 0.5 0.3333333333333333 0.25 0.0 \n",
      "0.30000000000000004 0.5 0.08333333333333331 0.3125 0.5555555555555556 \n",
      "0.7 0.0 0.5833333333333334 0.4375 0.4444444444444444 \n"
     ]
    }
   ],
   "source": [
    "println(JuMP.objective_value(facility_model))\n",
    "println(\"Opened hubs: \", value.(y))\n",
    "println(\"Assignments x[f,c]:\")\n",
    "for f in 1:hub_count, c in 1:consumer_count\n",
    "    print(value(x[f,c]), \" \")\n",
    "    if c == consumer_count; println(); end\n",
    "end"
   ]
  }
 ],
 "metadata": {
  "kernelspec": {
   "display_name": "Julia 1.11.4",
   "language": "julia",
   "name": "julia-1.11"
  },
  "language_info": {
   "file_extension": ".jl",
   "mimetype": "application/julia",
   "name": "julia",
   "version": "1.11.4"
  }
 },
 "nbformat": 4,
 "nbformat_minor": 5
}
